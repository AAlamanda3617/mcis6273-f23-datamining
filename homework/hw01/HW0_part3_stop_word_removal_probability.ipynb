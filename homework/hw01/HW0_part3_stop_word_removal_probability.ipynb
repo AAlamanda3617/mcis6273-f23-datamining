{
 "cells": [
  {
   "cell_type": "code",
   "execution_count": 55,
   "id": "7ee3fca8-cb83-4533-a428-ec2ce2d4cdb6",
   "metadata": {},
   "outputs": [],
   "source": [
    "\n",
    "import pandas as pd\n",
    "\n",
    "# Read the CSV containing all words and frequencies\n",
    "all_words_df = pd.read_csv('all_words.csv')"
   ]
  },
  {
   "cell_type": "code",
   "execution_count": 56,
   "id": "a0030f7a-60d2-4377-ae02-bfb551022f68",
   "metadata": {},
   "outputs": [],
   "source": [
    "# List of stopwords provided in blackboard link\n",
    "stopwords = [\"'ll\", \"'tis\", \"'twas\", \"'ve\", '10', '39', 'a', \"a's\", 'able', 'ableabout', 'about', 'above', 'abroad',\n",
    " 'abst', 'accordance', 'according', 'accordingly', 'across', 'act', 'actually', 'ad', 'added', 'adj', \n",
    " 'adopted', 'ae', 'af', 'affected', 'affecting', 'affects', 'after', 'afterwards', 'ag', 'again', \n",
    " 'against', 'ago', 'ah', 'ahead', 'ai', \"ain't\", 'aint', 'al', 'all', 'allow', 'allows', 'almost', \n",
    " 'alone', 'along', 'alongside', 'already', 'also', 'although', 'always', 'am', 'amid', 'amidst', 'among', \n",
    " 'amongst', 'amoungst', 'amount', 'an', 'and', 'announce', 'another', 'any', 'anybody', 'anyhow', 'anymore', \n",
    " 'anyone', 'anything', 'anyway', 'anyways', 'anywhere', 'ao', 'apart', 'apparently', 'appear', 'appreciate', \n",
    " 'appropriate', 'approximately', 'aq', 'ar', 'are', 'area', 'areas', 'aren', \"aren't\", 'arent', 'arise', \n",
    " 'around', 'arpa', 'as', 'aside', 'ask', 'asked', 'asking', 'asks', 'associated', 'at', 'au', 'auth', \n",
    " 'available', 'aw', 'away', 'awfully', 'az', 'b', 'ba', 'back', 'backed', 'backing', 'backs', 'backward', \n",
    " 'backwards', 'bb', 'bd', 'be', 'became', 'because', 'become', 'becomes', 'becoming', 'been', 'before', \n",
    " 'beforehand', 'began', 'begin', 'beginning', 'beginnings', 'begins', 'behind', 'being', 'beings', 'believe', \n",
    " 'below', 'beside', 'besides', 'best', 'better', 'between', 'beyond', 'bf', 'bg', 'bh', 'bi', 'big', 'bill', \n",
    " 'billion', 'biol', 'bj', 'bm', 'bn', 'bo', 'both', 'bottom', 'br', 'brief', 'briefly', 'bs', 'bt', 'but', \n",
    " 'buy', 'bv', 'bw', 'by', 'bz', 'c', \"c'mon\", \"c's\", 'ca', 'call', 'came', 'can', \"can't\", 'cannot', 'cant', \n",
    " 'caption', 'case', 'cases', 'cause', 'causes', 'cc', 'cd', 'certain', 'certainly', 'cf', 'cg', 'ch', 'changes', \n",
    " 'ci', 'ck', 'cl', 'clear', 'clearly', 'click', 'cm', 'cmon', 'cn', 'co', 'co.', 'com', 'come', 'comes', \n",
    " 'computer', 'con', 'concerning', 'consequently', 'consider', 'considering', 'contain', 'containing', 'contains', \n",
    " 'copy', 'corresponding', 'could', 'could\\'ve', 'couldn', \"couldn't\", 'couldnt', 'course', 'cr', 'cry', 'cs', 'cu', \n",
    " 'currently', 'cv', 'cx', 'cy', 'cz', 'd', 'dare', \"daren't\", 'darent', 'date', 'de', 'dear', 'definitely', \n",
    " 'describe', 'described', 'despite', 'detail', 'did', 'didn', \"didn't\", 'didnt', 'differ', 'different', \n",
    " 'differently', 'directly', 'dj', 'dk', 'dm', 'do', 'does', 'doesn', \"doesn't\", 'doesnt', 'doing', 'don', \n",
    " \"don't\", 'done', 'dont', 'doubtful', 'down', 'downed', 'downing', 'downs', 'downwards', 'due', 'during', 'dz', \n",
    " 'e', 'each', 'early', 'ec', 'ed', 'edu', 'ee', 'effect', 'eg', 'eh', 'eight', 'eighty', 'either', 'eleven', \n",
    " 'else', 'elsewhere', 'empty', 'end', 'ended', 'ending', 'ends', 'enough', 'entirely', 'er', 'es', 'especially', \n",
    " 'et', 'et-al', 'etc', 'even', 'evenly', 'ever', 'evermore', 'every', 'everybody', 'everyone', 'everything', \n",
    " 'everywhere', 'ex', 'exactly', 'example', 'except', 'f', 'face', 'faces', 'fact', 'facts', 'fairly', 'far', \n",
    " 'farther', 'felt', 'few', 'fewer', 'ff', 'fi', 'fifteen', 'fifth', 'fifty', 'fify', 'fill', 'find', 'finds', \n",
    " 'fire', 'first', 'five', 'fix', 'fj', 'fk', 'fm', 'fo', 'followed', 'following', 'follows', 'for', 'forever', \n",
    " 'former', 'formerly', 'forth', 'forty', 'forward', 'found', 'four', 'fr', 'free', 'from', 'front', 'full', \n",
    " 'fully', 'further', 'furthered', 'furthering', 'furthermore', 'furthers', 'fx', 'g', 'ga', 'gave', 'gb', 'gd', \n",
    " 'ge', 'general', 'generally', 'get', 'gets', 'getting', 'gf', 'gg', 'gh', 'gi', 'give', 'given', 'gives', \n",
    " 'giving', 'gl', 'gm', 'gmt', 'gn', 'go', 'goes', 'going', 'gone', 'good', 'goods', 'got', 'gotten', 'gov', \n",
    " 'gp', 'gq', 'gr', 'great', 'greater', 'greatest', 'greetings', 'group', 'grouped', 'grouping', 'groups', 'gs', \n",
    " 'gt', 'gu', 'gw', 'gy', 'h', 'had', 'hadn\\'t', 'hadnt', 'half', 'happens', 'hardly', 'has', 'hasn', \"hasn't\", \n",
    " 'hasnt', 'have', 'haven', 'haven\\'t', 'havent', 'having', 'he', 'he\\'d', 'he\\'ll', 'he\\'s', 'hed', 'hell', \n",
    " 'hello', 'help', 'hence', 'her', 'here', 'here\\'s', 'hereafter', 'hereby', 'herein', 'heres', 'hereupon', \n",
    " 'hers', 'herself', 'herse”', 'hes', 'hi', 'hid', 'high', 'higher', 'highest', 'him', 'himself', 'himse”', 'his', \n",
    " 'hither', 'hk', 'hm', 'hn', 'home', 'homepage', 'hopefully', 'how', 'how\\'d', 'how\\'ll', 'how\\'s', 'howbeit', \n",
    " 'however', 'hr', 'ht', 'htm', 'html', 'http', 'hu', 'hundred', 'i', 'i\\'d', 'i\\'ll', 'i\\'m', 'i\\'ve', 'i.e.', \n",
    " 'id', 'ie', 'if', 'ignored', 'ii', 'il', 'ill', 'im', 'immediate', 'immediately', 'importance', 'important', 'in', \n",
    " 'inasmuch', 'inc', 'inc.', 'indeed', 'index', 'indicate', 'indicated', 'indicates', 'information', 'inner', \n",
    " 'inside', 'insofar', 'instead', 'int', 'interest', 'interested', 'interesting', 'interests', 'into', 'invention', \n",
    " 'inward', 'io', 'iq', 'ir', 'is', 'isn', \"isn't\", 'isnt', 'it', 'it\\'d', 'it\\'ll', 'it\\'s', 'itd', 'itll', 'its', \n",
    " 'itself', 'itse”', 'ive', 'j', 'je', 'jm', 'jo', 'join', 'jp', 'just', 'k', 'ke', 'keep', 'keeps', 'kept', 'keys', \n",
    " 'kg', 'kh', 'ki', 'kind', 'km', 'kn', 'knew', 'know', 'known', 'knows', 'kp', 'kr', 'kw', 'ky', 'kz', 'l', 'la', \n",
    " 'large', 'largely', 'last', 'lately', 'later', 'latest', 'latter', 'latterly', 'lb', 'lc', 'least', 'length', 'less', \n",
    " 'lest', 'let', 'let\\'s', 'lets', 'li', 'like', 'liked', 'likely', 'likewise', 'line', 'little', 'lk', 'll', 'long', \n",
    " 'longer', 'longest', 'look', 'looking', 'looks', 'low', 'lower', 'lr', 'ls', 'lt', 'ltd', 'lu', 'lv', 'ly', 'm', \n",
    " 'ma', 'made', 'mainly', 'make', 'makes', 'making', 'man', 'many', 'may', 'maybe', 'mayn\\'t', 'maynt', 'mc', 'md', \n",
    " 'me', 'mean', 'means', 'meantime', 'meanwhile', 'member', 'members', 'men', 'merely', 'mg', 'mh', 'microsoft', 'might', \n",
    " 'might\\'ve', 'mightn', \"mightn't\", 'mightnt', 'mil', 'mill', 'million', 'mine', 'minus', 'miss', 'mk', 'ml', 'mm', \n",
    " 'mn', 'mo', 'more', 'moreover', 'most', 'mostly', 'move', 'mp', 'mq', 'mr', 'mrs', 'ms', 'msie', 'mt', 'mu', 'much', \n",
    " 'mug', 'must', 'must\\'ve', 'mustn', \"mustn't\", 'mustnt', 'mv', 'mw', 'mx', 'my', 'myself', 'myse”', 'mz', 'n', 'na', \n",
    " 'name', 'namely', 'nay', 'nc', 'nd', 'ne', 'near', 'nearly', 'necessarily', 'necessary', 'need', 'needed', 'needing', \n",
    " 'needn\\'t', 'neednt', 'needs', 'neither', 'net', 'netscape', 'never', 'neverf', 'neverless', 'nevertheless', 'new', \n",
    " 'newer', 'newest', 'next', 'nf', 'ng', 'ni', 'nine', 'ninety', 'nl', 'no', 'no-one', 'nobody', 'non', 'none', \n",
    " 'nonetheless', 'noone', 'nor', 'normally', 'nos', 'not', 'noted', 'nothing', 'notwithstanding', 'novel', 'now', \n",
    " 'nowhere', 'np', 'nr', 'nu', 'null', 'number', 'numbers', 'nz', 'o', 'obtain', 'obtained', 'obviously', 'of', 'off', \n",
    " 'often', 'oh', 'ok', 'okay', 'old', 'older', 'oldest', 'om', 'omitted', 'on', 'once', 'one', 'one\\'s', 'ones', 'only', \n",
    " 'onto', 'open', 'opened', 'opening', 'opens', 'opposite', 'or', 'ord', 'order', 'ordered', 'ordering', 'orders', 'org', \n",
    " 'other', 'others', 'otherwise', 'ought', 'oughtn\\'t', 'oughtnt', 'our', 'ours', 'ourselves', 'out', 'outside', 'over', \n",
    " 'overall', 'owing', 'own', 'p', 'pa', 'page', 'pages', 'part', 'parted', 'particular', 'particularly', 'parting', \n",
    " 'parts', 'past', 'pe', 'per', 'perhaps', 'pf', 'pg', 'ph', 'pk', 'pl', 'place', 'placed', 'places', 'please', 'plus', \n",
    " 'pm', 'pmid', 'pn', 'point', 'pointed', 'pointing', 'points', 'poorly', 'possible', 'possibly', 'potentially', 'pp', \n",
    " 'pr', 'predominantly', 'present', 'presented', 'presenting', 'presents', 'presumably', 'previously', 'primarily', \n",
    " 'probably', 'problem', 'problems', 'promptly', 'proud', 'provided', 'provides', 'pt', 'put', 'puts', 'pw', 'py', 'q', \n",
    " 'qa', 'que', 'quickly', 'quite', 'qv', 'r', 'ran', 'rather', 'rd', 're', 'readily', 'really', 'reasonably', 'recent', \n",
    " 'recently', 'ref', 'refs', 'regarding', 'regardless', 'regards', 'related', 'relatively', 'research', 'reserved', \n",
    " 'respectively', 'resulted', 'resulting', 'results', 'right', 'ring', 'ro', 'room', 'rooms', 'round', 'ru', 'run', \n",
    " 'rw', 's', 'sa', 'said', 'same', 'saw', 'say', 'saying', 'says', 'sb', 'sc', 'sd', 'se', 'sec', 'second', 'secondly', \n",
    " 'seconds', 'section', 'see', 'seeing', 'seem', 'seemed', 'seeming', 'seems', 'seen', 'sees', 'self', 'selves', \n",
    " 'sensible', 'sent', 'serious', 'seriously', 'seven', 'seventy', 'several', 'sg', 'sh', 'shall', 'shan\\'t', 'shant', \n",
    " 'she', 'she\\'d', 'she\\'ll', 'she\\'s', 'shed', 'shell', 'shes', 'should', 'should\\'ve', 'shouldn', \"shouldn't\", 'shouldnt', \n",
    " 'show', 'showed', 'showing', 'shown', 'showns', 'shows', 'si', 'side', 'sides', 'significant', 'significantly', \n",
    " 'similar', 'similarly', 'since', 'sincere', 'site', 'six', 'sixty', 'sj', 'sk', 'sl', 'slightly', 'sm', 'small', \n",
    " 'smaller', 'smallest', 'sn', 'so', 'some', 'somebody', 'someday', 'somehow', 'someone', 'somethan', 'something', \n",
    " 'sometime', 'sometimes', 'somewhat', 'somewhere', 'soon', 'sorry', 'specifically', 'specified', 'specify', 'specifying', \n",
    " 'sr', 'st', 'state', 'states', 'still', 'stop', 'strongly', 'su', 'sub', 'substantially', 'successfully', 'such', \n",
    " 'sufficiently', 'suggest', 'sup', 'sure', 'sv', 'sy', 'system', 'sz', 't', 't\\'s', 'take', 'taken', 'taking', 'tc', \n",
    " 'td', 'tell', 'ten', 'tends', 'test', 'text', 'tf', 'tg', 'th', 'than', 'thank', 'thanks', 'thanx', 'that', 'that\\'ll', \n",
    " 'that\\'s', 'that\\'ve', 'thatll', 'thats', 'thatve', 'the', 'their', 'theirs', 'them', 'themselves', 'then', 'thence', \n",
    " 'there', 'there\\'d', 'there\\'ll', 'there\\'re', 'there\\'s', 'there\\'ve', 'thereafter', 'thereby', 'thered', 'therefore', \n",
    " 'therein', 'therell', 'thereof', 'therere', 'theres', 'thereto', 'thereupon', 'thereve', 'these', 'they', 'they\\'d', \n",
    " 'they\\'ll', 'they\\'re', 'they\\'ve', 'theyd', 'theyll', 'theyre', 'theyve', 'thick', 'thin', 'thing', 'things', 'think', \n",
    " 'thinks', 'third', 'thirty', 'this', 'thorough', 'thoroughly', 'those', 'thou', 'though', 'thoughh', 'thought', 'thoughts', \n",
    " 'thousand', 'three', 'throug', 'through', 'throughout', 'thru', 'thus', 'til', 'till', 'tip', 'tis', 'tj', 'tk', 'tm', \n",
    " 'tn', 'to', 'today', 'together', 'too', 'took', 'top', 'toward', 'towards', 'tp', 'tr', 'tried', 'tries', 'trillion', \n",
    " 'truly', 'try', 'trying', 'ts', 'tt', 'turn', 'turned', 'turning', 'turns', 'tv', 'tw', 'twas', 'twelve', 'twenty', \n",
    " 'twice', 'two', 'tz', 'u', 'ua', 'ug', 'uk', 'um', 'un', 'under', 'underneath', 'undoing', 'unfortunately', 'unless', \n",
    " 'unlike', 'unlikely', 'until', 'unto', 'up', 'upon', 'ups', 'upwards', 'us', 'use', 'used', 'useful', 'usefully', \n",
    " 'usefulness', 'uses', 'using', 'usually', 'uucp', 'uy', 'uz', 'v', 'va', 'value', 'various', 'vc', 've', 'versus', \n",
    " 'very', 'vg', 'vi', 'via', 'viz', 'vn', 'vol', 'vols', 'vs', 'vu', 'w', 'want', 'wanted', 'wanting', 'wants', 'was', \n",
    " 'wasn', \"wasn't\", 'wasnt', 'way', 'ways', 'we', 'we\\'d', 'we\\'ll', 'we\\'re', 'we\\'ve', 'web', 'webpage', 'website', \n",
    " 'wed', 'welcome', 'well', 'wells', 'went', 'were', 'weren', \"weren't\", 'werent', 'weve', 'wf', 'what', 'what\\'ll', \n",
    " 'what\\'s', 'what\\'ve', 'whatever', 'whats', 'whatve', 'when', 'when\\'s', 'whence', 'whenever', 'where', 'where\\'s', \n",
    " 'whereafter', 'whereas', 'whereby', 'wherein', 'wheres', 'whereupon', 'wherever', 'whether', 'which', 'whichever', \n",
    " 'while', 'whilst', 'whim', 'whither', 'who', 'who\\'d', 'who\\'ll', 'who\\'s', 'whod', 'whoever', 'whole', 'wholl', 'whom', \n",
    " 'whomever', 'whos', 'whose', 'why', 'why\\'s', 'whys', 'wi', 'widely', 'will', 'willing', 'wish', 'with', 'within', \n",
    " 'without', 'wo', 'won', 'won\\'t', 'wonder', 'wont', 'words', 'work', 'worked', 'working', 'works', 'world', 'would', \n",
    " 'would\\'ve', 'wouldn', \"wouldn't\", 'wouldnt', 'ws', 'www', 'x', 'xhtml', 'xl', 'xml', 'xn', 'xo', 'xp', 'xx', 'y', \n",
    " 'ye', 'year', 'years', 'yes', 'yet', 'you', 'you\\'d', 'you\\'ll', 'you\\'re', 'you\\'ve', 'youd', 'youll', 'young', \n",
    " 'younger', 'youngest', 'your', 'youre', 'yours', 'yourself', 'yourselves', 'youve', 'yt', 'yu', 'z', 'za', 'zero', \n",
    " 'zm', 'zr']"
   ]
  },
  {
   "cell_type": "code",
   "execution_count": 57,
   "id": "782e4222-7920-4c60-807f-fbe393a60393",
   "metadata": {},
   "outputs": [],
   "source": [
    "# Initializing empty list to store non-stopwords\n",
    "non_stopwords = []"
   ]
  },
  {
   "cell_type": "code",
   "execution_count": 58,
   "id": "6f870c19-5cd4-4f82-b07e-81b52978e395",
   "metadata": {},
   "outputs": [],
   "source": [
    "# Iterating through each row in the DataFrame\n",
    "for index, row in all_words_df.iterrows():\n",
    "    word = row['word'].lower()  # Convert to lowercase for comparison\n",
    "    if word not in stopwords:\n",
    "        non_stopwords.append({'word': word, 'count': row['count']})\n",
    "\n"
   ]
  },
  {
   "cell_type": "code",
   "execution_count": 59,
   "id": "4b09fad3-81dc-41f1-8efd-67d6c35c6aee",
   "metadata": {},
   "outputs": [
    {
     "name": "stdout",
     "output_type": "stream",
     "text": [
      "Non-stopwords saved to all_ns_words.csv.\n"
     ]
    }
   ],
   "source": [
    "# Creating a new DataFrame for non-stopwords\n",
    "non_stopwords_df = pd.DataFrame(non_stopwords)\n",
    "\n",
    "# Saving the non-stopwords to a new CSV, retaining original frequency\n",
    "non_stopwords_df.to_csv('all_ns_words.csv', index=False)\n",
    "\n",
    "print(\"Non-stopwords saved to all_ns_words.csv.\")"
   ]
  },
  {
   "cell_type": "code",
   "execution_count": 60,
   "id": "05b43bf2-03b4-4319-8cfc-4f677f08612b",
   "metadata": {},
   "outputs": [],
   "source": [
    "# Load the all_ns_words.csv into a DataFrame\n",
    "all_ns_words_df = pd.read_csv('all_ns_words.csv')"
   ]
  },
  {
   "cell_type": "code",
   "execution_count": 61,
   "id": "d89b2666-198f-43bd-b4c0-f5b5d4882923",
   "metadata": {},
   "outputs": [],
   "source": [
    "# Calculate the sum of frequencies for all non-stopwords\n",
    "total_non_stopword_frequency = all_ns_words_df['count'].sum()"
   ]
  },
  {
   "cell_type": "code",
   "execution_count": 62,
   "id": "7a1f74ff-9b61-45f9-a4bd-43f611d83b6f",
   "metadata": {},
   "outputs": [],
   "source": [
    "#followed the example given in blackboard instructions\n",
    "all_ns_words_df['probability'] = all_ns_words_df['count'] / total_non_stopword_frequency\n"
   ]
  },
  {
   "cell_type": "code",
   "execution_count": 63,
   "id": "074dc040-de49-4bb1-b9f9-67df4cae2290",
   "metadata": {},
   "outputs": [],
   "source": [
    "# Save the updated DataFrame to all_ns_words.csv\n",
    "all_ns_words_df.to_csv('all_ns_words.csv', index=False)"
   ]
  },
  {
   "cell_type": "code",
   "execution_count": 64,
   "id": "8a298c83-b352-405b-9b44-1067babb0e29",
   "metadata": {},
   "outputs": [
    {
     "name": "stdout",
     "output_type": "stream",
     "text": [
      "Probability values added and saved to all_ns_words.csv.\n"
     ]
    }
   ],
   "source": [
    "print('Probability values added and saved to all_ns_words.csv.')"
   ]
  },
  {
   "cell_type": "code",
   "execution_count": 65,
   "id": "d15d2d4f-b2ff-4f65-ba7f-c9faa5b188e5",
   "metadata": {},
   "outputs": [],
   "source": [
    "df_final=pd.read_csv('all_ns_words.csv')"
   ]
  },
  {
   "cell_type": "code",
   "execution_count": 66,
   "id": "f4fc02f3-30c0-4787-aad7-d258a44ca4c6",
   "metadata": {},
   "outputs": [
    {
     "data": {
      "text/plain": [
       "(2743, 3)"
      ]
     },
     "execution_count": 66,
     "metadata": {},
     "output_type": "execute_result"
    }
   ],
   "source": [
    "df_final.shape #total unique non-stop-words"
   ]
  },
  {
   "cell_type": "code",
   "execution_count": 67,
   "id": "00bca59c-1f7d-419d-bc19-51c539fbb167",
   "metadata": {},
   "outputs": [],
   "source": [
    "#to check the lease probability again making new dataframe for future changes\n",
    "sorted_df = df_final.sort_values(by='probability', ascending=True)"
   ]
  },
  {
   "cell_type": "code",
   "execution_count": 68,
   "id": "f9f32596-61e4-4852-bb0a-e67b827264f5",
   "metadata": {},
   "outputs": [
    {
     "data": {
      "text/html": [
       "<div>\n",
       "<style scoped>\n",
       "    .dataframe tbody tr th:only-of-type {\n",
       "        vertical-align: middle;\n",
       "    }\n",
       "\n",
       "    .dataframe tbody tr th {\n",
       "        vertical-align: top;\n",
       "    }\n",
       "\n",
       "    .dataframe thead th {\n",
       "        text-align: right;\n",
       "    }\n",
       "</style>\n",
       "<table border=\"1\" class=\"dataframe\">\n",
       "  <thead>\n",
       "    <tr style=\"text-align: right;\">\n",
       "      <th></th>\n",
       "      <th>word</th>\n",
       "      <th>count</th>\n",
       "      <th>probability</th>\n",
       "    </tr>\n",
       "  </thead>\n",
       "  <tbody>\n",
       "    <tr>\n",
       "      <th>1371</th>\n",
       "      <td>instants</td>\n",
       "      <td>1</td>\n",
       "      <td>0.000078</td>\n",
       "    </tr>\n",
       "    <tr>\n",
       "      <th>1502</th>\n",
       "      <td>linked</td>\n",
       "      <td>1</td>\n",
       "      <td>0.000078</td>\n",
       "    </tr>\n",
       "    <tr>\n",
       "      <th>1500</th>\n",
       "      <td>limiting</td>\n",
       "      <td>1</td>\n",
       "      <td>0.000078</td>\n",
       "    </tr>\n",
       "    <tr>\n",
       "      <th>1498</th>\n",
       "      <td>limitations</td>\n",
       "      <td>1</td>\n",
       "      <td>0.000078</td>\n",
       "    </tr>\n",
       "    <tr>\n",
       "      <th>1490</th>\n",
       "      <td>lies</td>\n",
       "      <td>1</td>\n",
       "      <td>0.000078</td>\n",
       "    </tr>\n",
       "  </tbody>\n",
       "</table>\n",
       "</div>"
      ],
      "text/plain": [
       "             word  count  probability\n",
       "1371     instants      1     0.000078\n",
       "1502       linked      1     0.000078\n",
       "1500     limiting      1     0.000078\n",
       "1498  limitations      1     0.000078\n",
       "1490         lies      1     0.000078"
      ]
     },
     "execution_count": 68,
     "metadata": {},
     "output_type": "execute_result"
    }
   ],
   "source": [
    "sorted_df.head()#not able to find the total least probability words"
   ]
  },
  {
   "cell_type": "code",
   "execution_count": 69,
   "id": "74a1a61a-5487-4310-be75-ba714f2bd8bc",
   "metadata": {},
   "outputs": [],
   "source": [
    "sorted_df.to_csv('all_ns_words_with_sorted_prob.csv', index=False)#hence wrote into new file"
   ]
  },
  {
   "cell_type": "code",
   "execution_count": 70,
   "id": "b571b4de-95ec-4f12-94aa-bf3c8c90252d",
   "metadata": {},
   "outputs": [],
   "source": [
    "sentence1 = \"If a belief is true, it can be deduced it is universal.\"\n",
    "sentence2 = \"Criticism of knowledge is counter to scientific results.\""
   ]
  },
  {
   "cell_type": "code",
   "execution_count": 71,
   "id": "9eeb2a41-43cd-4a94-8ec2-ccb5c04d55dd",
   "metadata": {},
   "outputs": [],
   "source": [
    "sentence_words1 = sentence1.lower().split()\n",
    "sentence_words2 = sentence2.lower().split()"
   ]
  },
  {
   "cell_type": "code",
   "execution_count": 72,
   "id": "a075a5c3-8c2a-4911-b3ae-bf9f8d4bb82d",
   "metadata": {},
   "outputs": [],
   "source": [
    "sum_prob_sentence1 = sum(sorted_df[sorted_df['word'].isin(sentence_words1)]['probability'])\n",
    "sum_prob_sentence2 = sum(sorted_df[sorted_df['word'].isin(sentence_words2)]['probability'])"
   ]
  },
  {
   "cell_type": "code",
   "execution_count": 73,
   "id": "1f6ea54c-0ff7-4c67-a7e4-9244e926eebf",
   "metadata": {},
   "outputs": [
    {
     "name": "stdout",
     "output_type": "stream",
     "text": [
      "Sum of probabilities for sentence 1: 0.009210115516703\n",
      "Sum of probabilities for sentence 2: 0.0248204807992506\n"
     ]
    }
   ],
   "source": [
    "print(\"Sum of probabilities for sentence 1:\", sum_prob_sentence1)\n",
    "print(\"Sum of probabilities for sentence 2:\", sum_prob_sentence2)"
   ]
  },
  {
   "cell_type": "code",
   "execution_count": 74,
   "id": "679d2878-9441-43f2-a94d-c0958e88d44f",
   "metadata": {},
   "outputs": [
    {
     "name": "stdout",
     "output_type": "stream",
     "text": [
      "The more likely sentence is: sentence 2\n"
     ]
    }
   ],
   "source": [
    "likely_sentence = \"sentence 1\" if sum_prob_sentence1 > sum_prob_sentence2 else \"sentence 2\"\n",
    "print(\"The more likely sentence is:\", likely_sentence)"
   ]
  },
  {
   "cell_type": "code",
   "execution_count": null,
   "id": "75273ff8-6686-4e92-a952-505ea568c929",
   "metadata": {},
   "outputs": [],
   "source": []
  }
 ],
 "metadata": {
  "kernelspec": {
   "display_name": "Python 3 (ipykernel)",
   "language": "python",
   "name": "python3"
  },
  "language_info": {
   "codemirror_mode": {
    "name": "ipython",
    "version": 3
   },
   "file_extension": ".py",
   "mimetype": "text/x-python",
   "name": "python",
   "nbconvert_exporter": "python",
   "pygments_lexer": "ipython3",
   "version": "3.11.4"
  }
 },
 "nbformat": 4,
 "nbformat_minor": 5
}
