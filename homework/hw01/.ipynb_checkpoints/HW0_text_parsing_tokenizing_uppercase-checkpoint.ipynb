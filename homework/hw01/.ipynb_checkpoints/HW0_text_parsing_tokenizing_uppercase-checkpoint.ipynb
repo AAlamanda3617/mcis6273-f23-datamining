{
 "cells": [
  {
   "cell_type": "code",
   "execution_count": 75,
   "id": "c7ef0497-6e61-4610-86af-2d585880050c",
   "metadata": {},
   "outputs": [],
   "source": [
    "#importing required libraries\n",
    "import re\n",
    "import csv\n",
    "from collections import Counter\n",
    "import string\n"
   ]
  },
  {
   "cell_type": "code",
   "execution_count": 76,
   "id": "c6294799-4ee9-47db-8672-f219fa024296",
   "metadata": {},
   "outputs": [],
   "source": [
    "# To check and match upper case\n",
    "pat_upper = re.compile(r'[A-Z]+\\'?[a-z]*')"
   ]
  },
  {
   "cell_type": "code",
   "execution_count": 77,
   "id": "7fc3db6f-911a-4be4-a4a5-e8aa68834678",
   "metadata": {},
   "outputs": [],
   "source": [
    "# here I am not converting the upper case letters to lower just using as is\n",
    "def process_string(s):\n",
    "    # Process the string for uppercase words\n",
    "    m = pat_upper.match(s)\n",
    "    if m:\n",
    "        processed_word = m.group(0)\n",
    "        # Remove punctuation from start and end of the word\n",
    "        processed_word = processed_word.strip(string.punctuation)\n",
    "        return processed_word\n",
    "    else:\n",
    "        return ''"
   ]
  },
  {
   "cell_type": "code",
   "execution_count": 78,
   "id": "db4bbb71-2712-41e2-8d2d-ce287aab795c",
   "metadata": {},
   "outputs": [],
   "source": [
    "#defining the below function to count the word frequency\n",
    "def tokenize_and_count_uppercase_words(text):\n",
    "    words = text.split()\n",
    "    uppercase_word_counts = Counter()\n",
    "    for word in words:  \n",
    "        processed_word = process_string(word)\n",
    "        if processed_word:\n",
    "            uppercase_word_counts[processed_word] += 1\n",
    "\n",
    "    return uppercase_word_counts"
   ]
  },
  {
   "cell_type": "code",
   "execution_count": 79,
   "id": "e013f519-eebe-4d9d-a128-999d23909e25",
   "metadata": {},
   "outputs": [],
   "source": [
    "#reading input file\n",
    "input_file_path = 'pg5827.txt'  \n",
    "with open(input_file_path, 'r') as file:\n",
    "    text = file.read()"
   ]
  },
  {
   "cell_type": "code",
   "execution_count": 80,
   "id": "81e4f42d-397f-41ba-921b-1f337081d4bf",
   "metadata": {},
   "outputs": [],
   "source": [
    "# Tokenizing and count the uppercase words\n",
    "uppercase_word_counts = tokenize_and_count_uppercase_words(text)"
   ]
  },
  {
   "cell_type": "code",
   "execution_count": 81,
   "id": "fd1d102d-de4f-4958-a631-276301849904",
   "metadata": {},
   "outputs": [],
   "source": [
    "# Sorting the word counts alphabetically by word\n",
    "sorted_uppercase_word_counts = sorted(uppercase_word_counts.items(), key=lambda x: x[0])"
   ]
  },
  {
   "cell_type": "code",
   "execution_count": 82,
   "id": "e5358238-72b8-4de7-899f-649e4525905c",
   "metadata": {},
   "outputs": [],
   "source": [
    "# Write word counts to a CSV file\n",
    "output_file_path = 'all_uppercase_words.csv'"
   ]
  },
  {
   "cell_type": "code",
   "execution_count": 83,
   "id": "ecca6d17-3c2f-415f-a870-2f8408ff36e0",
   "metadata": {},
   "outputs": [
    {
     "name": "stdout",
     "output_type": "stream",
     "text": [
      "Uppercase word counts saved to all_uppercase_words.csv\n"
     ]
    }
   ],
   "source": [
    "with open(output_file_path, 'w', newline='') as csvfile:\n",
    "    fieldnames = ['word', 'count']\n",
    "    writer = csv.DictWriter(csvfile, fieldnames=fieldnames)\n",
    "    writer.writeheader()\n",
    "    for word, count in sorted_uppercase_word_counts:\n",
    "        writer.writerow({'word': word, 'count': count})\n",
    "\n",
    "print('Uppercase word counts saved to', output_file_path)"
   ]
  },
  {
   "cell_type": "code",
   "execution_count": 84,
   "id": "88c3622d-e170-46c1-a013-89965fecd9da",
   "metadata": {},
   "outputs": [],
   "source": [
    "#assigning the csv file to df to read the data\n",
    "csv_file_path = 'all_uppercase_words.csv'\n",
    "df = pd.read_csv(csv_file_path)"
   ]
  },
  {
   "cell_type": "code",
   "execution_count": 85,
   "id": "536dacb4-866e-4682-8ef8-e5d8e5f91315",
   "metadata": {},
   "outputs": [],
   "source": [
    "import pandas as pd"
   ]
  },
  {
   "cell_type": "code",
   "execution_count": 86,
   "id": "09d7a3cf-2281-4314-919c-36624a6c7887",
   "metadata": {},
   "outputs": [
    {
     "data": {
      "text/html": [
       "<div>\n",
       "<style scoped>\n",
       "    .dataframe tbody tr th:only-of-type {\n",
       "        vertical-align: middle;\n",
       "    }\n",
       "\n",
       "    .dataframe tbody tr th {\n",
       "        vertical-align: top;\n",
       "    }\n",
       "\n",
       "    .dataframe thead th {\n",
       "        text-align: right;\n",
       "    }\n",
       "</style>\n",
       "<table border=\"1\" class=\"dataframe\">\n",
       "  <thead>\n",
       "    <tr style=\"text-align: right;\">\n",
       "      <th></th>\n",
       "      <th>word</th>\n",
       "      <th>count</th>\n",
       "    </tr>\n",
       "  </thead>\n",
       "  <tbody>\n",
       "    <tr>\n",
       "      <th>0</th>\n",
       "      <td>A</td>\n",
       "      <td>31</td>\n",
       "    </tr>\n",
       "    <tr>\n",
       "      <th>1</th>\n",
       "      <td>ACQUAINTANCE</td>\n",
       "      <td>1</td>\n",
       "    </tr>\n",
       "    <tr>\n",
       "      <th>2</th>\n",
       "      <td>ACTUAL</td>\n",
       "      <td>1</td>\n",
       "    </tr>\n",
       "    <tr>\n",
       "      <th>3</th>\n",
       "      <td>AGREE</td>\n",
       "      <td>2</td>\n",
       "    </tr>\n",
       "    <tr>\n",
       "      <th>4</th>\n",
       "      <td>AGREEMENT</td>\n",
       "      <td>1</td>\n",
       "    </tr>\n",
       "  </tbody>\n",
       "</table>\n",
       "</div>"
      ],
      "text/plain": [
       "           word  count\n",
       "0             A     31\n",
       "1  ACQUAINTANCE      1\n",
       "2        ACTUAL      1\n",
       "3         AGREE      2\n",
       "4     AGREEMENT      1"
      ]
     },
     "execution_count": 86,
     "metadata": {},
     "output_type": "execute_result"
    }
   ],
   "source": [
    "df.head()"
   ]
  },
  {
   "cell_type": "code",
   "execution_count": 87,
   "id": "f67196b7-1e3c-4ad3-ac93-6eb98faa368a",
   "metadata": {},
   "outputs": [],
   "source": [
    "# Sort the df by word count in descending order\n",
    "sorted_df = df.sort_values(by='count', ascending=False)"
   ]
  },
  {
   "cell_type": "code",
   "execution_count": 88,
   "id": "3e2ae67c-d2cd-4ccd-9ebc-7fc0ea424318",
   "metadata": {},
   "outputs": [],
   "source": [
    "top_5_words = sorted_df.head(5)"
   ]
  },
  {
   "cell_type": "code",
   "execution_count": 89,
   "id": "d2bcf5e5-3960-40c2-af65-c1c2bab3cf5b",
   "metadata": {},
   "outputs": [
    {
     "name": "stdout",
     "output_type": "stream",
     "text": [
      "The 5 most frequent words:\n",
      "     word  count\n",
      "406   The    187\n",
      "181     I    137\n",
      "58    But    119\n",
      "212    It    117\n",
      "417  Thus    113\n"
     ]
    }
   ],
   "source": [
    "print('The 5 most frequent words:')\n",
    "print(top_5_words)"
   ]
  },
  {
   "cell_type": "code",
   "execution_count": null,
   "id": "468cb793-ae87-4507-9fb3-2e0f540ec7be",
   "metadata": {},
   "outputs": [],
   "source": []
  },
  {
   "cell_type": "code",
   "execution_count": null,
   "id": "b6c858c7-b3d9-4369-949c-9fcde3bd38e9",
   "metadata": {},
   "outputs": [],
   "source": []
  }
 ],
 "metadata": {
  "kernelspec": {
   "display_name": "Python 3 (ipykernel)",
   "language": "python",
   "name": "python3"
  },
  "language_info": {
   "codemirror_mode": {
    "name": "ipython",
    "version": 3
   },
   "file_extension": ".py",
   "mimetype": "text/x-python",
   "name": "python",
   "nbconvert_exporter": "python",
   "pygments_lexer": "ipython3",
   "version": "3.11.4"
  }
 },
 "nbformat": 4,
 "nbformat_minor": 5
}
